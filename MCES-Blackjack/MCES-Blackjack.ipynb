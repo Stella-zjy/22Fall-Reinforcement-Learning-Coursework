{
 "cells": [
  {
   "cell_type": "markdown",
   "id": "de6fdbe0",
   "metadata": {},
   "source": [
    "# Monte Carlo ES for Blackjack"
   ]
  },
  {
   "cell_type": "code",
   "execution_count": 1,
   "id": "d0e3cb67",
   "metadata": {},
   "outputs": [],
   "source": [
    "import random\n",
    "import numpy as np\n",
    "import matplotlib.pyplot as plt\n",
    "import pandas as pd\n",
    "\n",
    "random.seed(7)"
   ]
  },
  {
   "cell_type": "markdown",
   "id": "595aaceb",
   "metadata": {},
   "source": [
    "### State Space and Action Space\n",
    "A state $(x, y)$ consists of two values, with $x \\in \\{12, 13, 14, ..., 22\\}$ indicating the current sum of the player and $y \\in \\{Ace = 11, 2, 3, ..., 10\\}$ indicating the dealer's shown card value.\\\n",
    "An action $a \\in \\{0, 1\\}$, with 0 indicating stick and 1 indictaing hit."
   ]
  },
  {
   "cell_type": "code",
   "execution_count": 2,
   "id": "f519b01f",
   "metadata": {},
   "outputs": [],
   "source": [
    "# State space & Action space\n",
    "S = [(i,j) for i in range(12,23) for j in range(2,12)]\n",
    "A = [0, 1]\n",
    "\n",
    "# Initialization\n",
    "# Note that for the initial policy, we only stick when the player's sum is larger or equal to 20\n",
    "def initialization(S, A):\n",
    "    Pi = dict()\n",
    "    Q = dict()\n",
    "    Returns = dict()\n",
    "    for s in S:\n",
    "        if s[0] >= 20:\n",
    "            Pi[s] = 0\n",
    "        else:\n",
    "            Pi[s] = 1\n",
    "        for a in A:\n",
    "            Q[(s, a)] = 0\n",
    "            Returns[(s, a)] = []\n",
    "    return Pi, Q, Returns"
   ]
  },
  {
   "cell_type": "code",
   "execution_count": 3,
   "id": "7869164d",
   "metadata": {},
   "outputs": [],
   "source": [
    "# This function generates a card value\n",
    "# Note that every card (Ace, 2, 3, ..., J, Q, K) has equal probability 1/13 of showing up\n",
    "# which means the value in our setting is (11, 2, 3, ..., 10) where 10 has prob 4/13 and others with prob 1/13\n",
    "def hit():\n",
    "    card = random.randint(1, 13)\n",
    "    if card == 1:\n",
    "        return 11\n",
    "    elif card in [11, 12, 13]:\n",
    "        return 10\n",
    "    else:\n",
    "        return card"
   ]
  },
  {
   "cell_type": "code",
   "execution_count": 4,
   "id": "80ef2dd2",
   "metadata": {},
   "outputs": [],
   "source": [
    "# This function generates an episode fromn S0, A0, following Pi\n",
    "def generate_episode(S0, A0, Pi):\n",
    "    episode = []\n",
    "    episode.append(S0)\n",
    "    episode.append(A0)\n",
    "    s = S0\n",
    "    a = A0\n",
    "    \n",
    "    # Player Hits\n",
    "    while True:\n",
    "        if a == 1:\n",
    "            new_card = hit()\n",
    "            player_value = s[0] + new_card\n",
    "            if player_value > 22:\n",
    "                episode.append(-1)\n",
    "                return episode\n",
    "            else:\n",
    "                s = (player_value, s[1])\n",
    "                episode.append(s)\n",
    "                a = Pi[s]\n",
    "                episode.append(a)\n",
    "        else:\n",
    "            break\n",
    "    \n",
    "    # Dealer Hits\n",
    "    dealer_sum = s[1] + hit()\n",
    "    while dealer_sum <= 16:\n",
    "        new_card = hit()\n",
    "        dealer_sum += new_card\n",
    "        if dealer_sum > 22:\n",
    "            episode.append(1) \n",
    "            return episode\n",
    "    \n",
    "    # Generate return when no one bursts\n",
    "    if s[0] > dealer_sum:\n",
    "        episode.append(1)\n",
    "    elif s[0] < dealer_sum:\n",
    "        episode.append(-1)\n",
    "    else:\n",
    "        episode.append(0)\n",
    "    return episode"
   ]
  },
  {
   "cell_type": "code",
   "execution_count": 5,
   "id": "2bc2e744",
   "metadata": {},
   "outputs": [],
   "source": [
    "# This function evaluates the current policy Pi by running NUM_EPISODES episodes and calculate the average return\n",
    "def evaluation(S, Pi, NUM_EPISODES):\n",
    "    S0 = random.choice(S)\n",
    "    A0 = Pi[S0]\n",
    "    R = 0\n",
    "    for episode_num in range(NUM_EPISODES):\n",
    "        episode = generate_episode(S0, A0, Pi)\n",
    "        R += episode[-1]\n",
    "    return R/NUM_EPISODES"
   ]
  },
  {
   "cell_type": "code",
   "execution_count": 6,
   "id": "478297e0",
   "metadata": {},
   "outputs": [],
   "source": [
    "# This is the main loop for MCES for estimating optimal policy\n",
    "# We train for NUM_LOOP times and every EVAL_EVERY_NUM training epochs, \n",
    "# we evaluate the returns over NUM_EVAL_EPISODES number of episodes\n",
    "def MCES_main(S, A, NUM_LOOP, EVAL_EVERY_NUM, NUM_EVAL_EPISODES):\n",
    "    Pi, Q, Returns = initialization(S, A)\n",
    "    eval_return_history = []\n",
    "    for i in range(NUM_LOOP):\n",
    "        S0 = random.choice(S)\n",
    "        A0 = random.choice(A)\n",
    "        episode = generate_episode(S0, A0, Pi)\n",
    "        G = episode[-1]\n",
    "        T = len(episode)//2\n",
    "        # Policy Improvement\n",
    "        for t in range(T-1,-1,-1):\n",
    "            state_action = (episode[2*t], episode[2*t+1])\n",
    "            Returns[state_action].append(G)\n",
    "            Q[state_action] = sum(Returns[state_action])/len(Returns[state_action])\n",
    "            s = state_action[0]\n",
    "            if Q[(s, 0)] > Q[(s, 1)]:\n",
    "                Pi[s] = 0\n",
    "            elif Q[(s, 1)] > Q[(s, 0)]:\n",
    "                Pi[s] = 1\n",
    "        # Evaluation (if applicable)\n",
    "        if (i+1)%EVAL_EVERY_NUM == 0:\n",
    "            eval_return = evaluation(S, Pi, NUM_EVAL_EPISODES)\n",
    "            eval_return_history.append(eval_return)\n",
    "    return eval_return_history, Pi"
   ]
  },
  {
   "cell_type": "code",
   "execution_count": 7,
   "id": "06173ad7",
   "metadata": {},
   "outputs": [],
   "source": [
    "def display_policy(Pi):\n",
    "    Policy = np.zeros((11, 10))\n",
    "    for i in range(11):\n",
    "        for j in range(10):\n",
    "            Policy[i][j] = Pi[(i+12, j+2)]\n",
    "    im = plt.imshow(Policy, cmap=\"copper_r\")\n",
    "    plt.colorbar(im)\n",
    "    plt.show()\n",
    "    "
   ]
  },
  {
   "cell_type": "markdown",
   "id": "43b1d500",
   "metadata": {},
   "source": [
    "### Run for Original Version\n",
    "After training $n*1000$ steps, run $100$ episodes with the current policy (no random initial action) and calculate the average return for those $100$ episodes. Provide the average returns for $n =1,2,...,20$. "
   ]
  },
  {
   "cell_type": "code",
   "execution_count": 8,
   "id": "b0c12e3a",
   "metadata": {},
   "outputs": [
    {
     "name": "stdout",
     "output_type": "stream",
     "text": [
      "Optimal Policy\n",
      "\n"
     ]
    },
    {
     "data": {
      "image/png": "[encoded data removed]",
      "text/plain": [
       "<Figure size 432x288 with 2 Axes>"
      ]
     },
     "metadata": {
      "needs_background": "light"
     },
     "output_type": "display_data"
    },
    {
     "data": {
      "text/html": [
       "<div>\n",
       "<style scoped>\n",
       "    .dataframe tbody tr th:only-of-type {\n",
       "        vertical-align: middle;\n",
       "    }\n",
       "\n",
       "    .dataframe tbody tr th {\n",
       "        vertical-align: top;\n",
       "    }\n",
       "\n",
       "    .dataframe thead th {\n",
       "        text-align: right;\n",
       "    }\n",
       "</style>\n",
       "<table border=\"1\" class=\"dataframe\">\n",
       "  <thead>\n",
       "    <tr style=\"text-align: right;\">\n",
       "      <th></th>\n",
       "      <th>1</th>\n",
       "      <th>2</th>\n",
       "      <th>3</th>\n",
       "      <th>4</th>\n",
       "      <th>5</th>\n",
       "      <th>6</th>\n",
       "      <th>7</th>\n",
       "      <th>8</th>\n",
       "      <th>9</th>\n",
       "      <th>10</th>\n",
       "      <th>11</th>\n",
       "      <th>12</th>\n",
       "      <th>13</th>\n",
       "      <th>14</th>\n",
       "      <th>15</th>\n",
       "      <th>16</th>\n",
       "      <th>17</th>\n",
       "      <th>18</th>\n",
       "      <th>19</th>\n",
       "      <th>20</th>\n",
       "    </tr>\n",
       "  </thead>\n",
       "  <tbody>\n",
       "    <tr>\n",
       "      <th>average return</th>\n",
       "      <td>0.91</td>\n",
       "      <td>0.94</td>\n",
       "      <td>-0.17</td>\n",
       "      <td>-0.36</td>\n",
       "      <td>0.15</td>\n",
       "      <td>0.05</td>\n",
       "      <td>0.84</td>\n",
       "      <td>0.59</td>\n",
       "      <td>0.58</td>\n",
       "      <td>0.31</td>\n",
       "      <td>-0.25</td>\n",
       "      <td>-0.49</td>\n",
       "      <td>-0.33</td>\n",
       "      <td>-0.48</td>\n",
       "      <td>0.14</td>\n",
       "      <td>-0.46</td>\n",
       "      <td>-0.61</td>\n",
       "      <td>0.03</td>\n",
       "      <td>0.33</td>\n",
       "      <td>-0.12</td>\n",
       "    </tr>\n",
       "  </tbody>\n",
       "</table>\n",
       "</div>"
      ],
      "text/plain": [
       "                  1     2     3     4     5     6     7     8     9     10  \\\n",
       "average return  0.91  0.94 -0.17 -0.36  0.15  0.05  0.84  0.59  0.58  0.31   \n",
       "\n",
       "                  11    12    13    14    15    16    17    18    19    20  \n",
       "average return -0.25 -0.49 -0.33 -0.48  0.14 -0.46 -0.61  0.03  0.33 -0.12  "
      ]
     },
     "execution_count": 8,
     "metadata": {},
     "output_type": "execute_result"
    }
   ],
   "source": [
    "def main_original_version(S, A):\n",
    "    N = [n for n in range(1, 21)]\n",
    "    return_history = []\n",
    "    for n in N:\n",
    "        NUM_LOOP = n*1000\n",
    "        EVAL_EVERY_NUM = NUM_LOOP\n",
    "        NUM_EVAL_EPISODES = 100\n",
    "        eval_return_history, Pi = MCES_main(S, A, NUM_LOOP, EVAL_EVERY_NUM, NUM_EVAL_EPISODES)\n",
    "        return_history.append(eval_return_history[0])\n",
    "    d = {'average return':return_history}\n",
    "    df = pd.DataFrame(data = d, index = N)\n",
    "    print(\"Optimal Policy\\n\")\n",
    "    display_policy(Pi)\n",
    "    return df\n",
    "    \n",
    "df = main_original_version(S, A)\n",
    "df.T"
   ]
  },
  {
   "cell_type": "markdown",
   "id": "e783b98b",
   "metadata": {},
   "source": [
    "### Run for New Version\n",
    "Train for 100,000 steps (instead of 20,000 steps)\\\n",
    "Every 1000 steps, evaluate the current policy by running 1000 episodes and averaging over the 1000 episodes"
   ]
  },
  {
   "cell_type": "code",
   "execution_count": 9,
   "id": "5a444b0c",
   "metadata": {},
   "outputs": [
    {
     "name": "stdout",
     "output_type": "stream",
     "text": [
      "return history = [-0.224, 0.069, -0.554, -0.392, -0.173, -0.41, 0.899, 0.856, 0.249, -0.089, 0.899, -0.45, 0.7, -0.097, 0.955, 0.149, -0.462, 0.934, 0.269, -0.13, 0.926, -0.566, -0.26, -0.174, 0.923, -0.573, -0.115, -0.305, 0.519, 0.717, 0.94, -0.332, 0.845, -0.389, -0.264, -0.474, 0.901, -0.338, -0.312, 0.941, -0.312, 0.801, -0.379, 0.013, 0.0, -0.372, -0.296, -0.223, 0.907, 0.057, 0.276, -0.306, 0.194, 0.143, 0.266, -0.124, -0.351, -0.4, -0.382, -0.504, -0.162, 0.671, -0.291, 0.303, 0.614, 0.905, -0.292, -0.289, 0.267, 0.08, -0.554, -0.437, 0.256, 0.129, 0.499, 0.329, -0.344, -0.142, 0.934, 0.482, 0.208, -0.428, 0.92, -0.349, -0.378, 0.17, -0.278, -0.256, 0.901, 0.16, -0.505, 0.845, -0.302, -0.316, 0.702, -0.496, -0.385, 0.941, 0.182, 0.278]\n"
     ]
    },
    {
     "data": {
      "image/png": "[encoded data removed]",
      "text/plain": [
       "<Figure size 432x288 with 1 Axes>"
      ]
     },
     "metadata": {
      "needs_background": "light"
     },
     "output_type": "display_data"
    },
    {
     "name": "stdout",
     "output_type": "stream",
     "text": [
      "Optimal Policy\n",
      "\n"
     ]
    },
    {
     "data": {
      "image/png": "[encoded data removed]",
      "text/plain": [
       "<Figure size 432x288 with 2 Axes>"
      ]
     },
     "metadata": {
      "needs_background": "light"
     },
     "output_type": "display_data"
    }
   ],
   "source": [
    "def main_new_version(S, A):\n",
    "    NUM_LOOP = 100000\n",
    "    EVAL_EVERY_NUM = 1000\n",
    "    NUM_EVAL_EPISODES = 1000\n",
    "    eval_return_history, Pi = MCES_main(S, A, NUM_LOOP, EVAL_EVERY_NUM, NUM_EVAL_EPISODES)\n",
    "    print(\"return history =\", eval_return_history)\n",
    "    plt.figure()\n",
    "    plt.plot([x+1 for x in range(100)], eval_return_history)\n",
    "    plt.xlabel(\"Number of Steps Trained (x1000)\")\n",
    "    plt.ylabel(\"Average Return\")\n",
    "    plt.show()\n",
    "    print(\"Optimal Policy\\n\")\n",
    "    display_policy(Pi)\n",
    "     \n",
    "    \n",
    "main_new_version(S, A)"
   ]
  }
 ],
 "metadata": {
  "kernelspec": {
   "display_name": "Python 3",
   "language": "python",
   "name": "python3"
  },
  "language_info": {
   "codemirror_mode": {
    "name": "ipython",
    "version": 3
   },
   "file_extension": ".py",
   "mimetype": "text/x-python",
   "name": "python",
   "nbconvert_exporter": "python",
   "pygments_lexer": "ipython3",
   "version": "3.7.6"
  }
 },
 "nbformat": 4,
 "nbformat_minor": 5
}
